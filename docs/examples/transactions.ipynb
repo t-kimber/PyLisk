{
 "cells": [
  {
   "cell_type": "markdown",
   "id": "0e91f771-3aa8-4617-b1d4-66bcbc9dcd34",
   "metadata": {},
   "source": [
    "# PyLisk package"
   ]
  },
  {
   "cell_type": "code",
   "execution_count": 1,
   "id": "1a13be02-7af3-41ab-906c-4ca6b50720a2",
   "metadata": {},
   "outputs": [
    {
     "name": "stdout",
     "output_type": "stream",
     "text": [
      "usage: pylisk [-h] {send,vote} ...\n",
      "\n",
      "positional arguments:\n",
      "  {send,vote}\n",
      "\n",
      "optional arguments:\n",
      "  -h, --help   show this help message and exit\n"
     ]
    }
   ],
   "source": [
    "%%bash\n",
    "pylisk -h"
   ]
  },
  {
   "cell_type": "markdown",
   "id": "8f9e7bbd-032d-4506-b0fe-e51a01d2a8f4",
   "metadata": {},
   "source": [
    "## Send"
   ]
  },
  {
   "cell_type": "code",
   "execution_count": 2,
   "id": "c0236fd1-59cd-49e5-9d49-df53052c389d",
   "metadata": {},
   "outputs": [
    {
     "name": "stdout",
     "output_type": "stream",
     "text": [
      "usage: pylisk send [-h] --receiver RECEIVER --amount AMOUNT\n",
      "                   [--net {test,main}]\n",
      "\n",
      "optional arguments:\n",
      "  -h, --help           show this help message and exit\n",
      "  --receiver RECEIVER  The receiver of the transaction\n",
      "  --amount AMOUNT      The amount [in Lisk] the receiver of the transaction is\n",
      "                       getting\n",
      "  --net {test,main}    The net to apply the transaction, testnet or mainnet.\n"
     ]
    }
   ],
   "source": [
    "%%bash\n",
    "pylisk send -h"
   ]
  },
  {
   "cell_type": "markdown",
   "id": "9a612c4e-1138-46c4-8a1b-c175951eff1d",
   "metadata": {},
   "source": [
    "## Vote"
   ]
  },
  {
   "cell_type": "code",
   "execution_count": 3,
   "id": "94454728-d156-4707-938f-afb6bb7960ae",
   "metadata": {},
   "outputs": [
    {
     "name": "stdout",
     "output_type": "stream",
     "text": [
      "usage: pylisk vote [-h] --delegate DELEGATE --amount AMOUNT\n",
      "                   [--net {test,main}]\n",
      "\n",
      "optional arguments:\n",
      "  -h, --help           show this help message and exit\n",
      "  --delegate DELEGATE  The delegate to vote for\n",
      "  --amount AMOUNT      The amount the delegate will receive\n",
      "  --net {test,main}    The net to apply the transaction, testnet or mainnet.\n"
     ]
    }
   ],
   "source": [
    "%%bash\n",
    "pylisk vote -h"
   ]
  }
 ],
 "metadata": {
  "kernelspec": {
   "display_name": "Python 3 (ipykernel)",
   "language": "python",
   "name": "python3"
  },
  "language_info": {
   "codemirror_mode": {
    "name": "ipython",
    "version": 3
   },
   "file_extension": ".py",
   "mimetype": "text/x-python",
   "name": "python",
   "nbconvert_exporter": "python",
   "pygments_lexer": "ipython3",
   "version": "3.9.9"
  }
 },
 "nbformat": 4,
 "nbformat_minor": 5
}
